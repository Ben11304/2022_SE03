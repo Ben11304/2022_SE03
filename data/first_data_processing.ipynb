{
 "cells": [
  {
   "cell_type": "code",
   "execution_count": null,
   "metadata": {},
   "outputs": [],
   "source": [
    "# /Users/mac/Dev/BoT-IoT"
   ]
  },
  {
   "cell_type": "markdown",
   "metadata": {},
   "source": [
    "#this code use for get and working with data from Bot-iot source website"
   ]
  },
  {
   "cell_type": "code",
   "execution_count": 1,
   "metadata": {},
   "outputs": [],
   "source": [
    "data_folder=\"/Users/mac/Dev/BoT-IoT\"\n",
    "feature_heading=\"/Users/mac/Dev/2022_SE03/data/UNSW_2018_IoT_Botnet_Dataset_Feature_Names.csv\"\n"
   ]
  },
  {
   "cell_type": "code",
   "execution_count": 52,
   "metadata": {},
   "outputs": [],
   "source": [
    "import pandas as pd \n",
    "import numpy as np\n",
    "feature=pd.read_csv(feature_heading,header=None)\n",
    "feature=feature.values[0]"
   ]
  },
  {
   "cell_type": "code",
   "execution_count": 70,
   "metadata": {},
   "outputs": [],
   "source": [
    "from collections import Counter\n",
    "def count_label_data(labels):\n",
    "    '''\n",
    "    this step use for analyse label\n",
    "    '''\n",
    "    label_counts = Counter(labels)\n",
    "    return label_counts\n",
    "def analyse_dataset(data,names,list):\n",
    "    for name in names:\n",
    "        label_data_count = count_label_data(data[name])\n",
    "        print(f\"thống kê nhãn {name}:\")\n",
    "        for label, count in label_data_count.items():\n",
    "            list.append(label)\n",
    "            print(label, count)\n",
    "    return list"
   ]
  },
  {
   "cell_type": "code",
   "execution_count": null,
   "metadata": {},
   "outputs": [],
   "source": [
    "import os\n",
    "import pandas as pd\n",
    "from tqdm import tqdm  # Import tqdm\n",
    "list = []\n",
    "files = os.listdir(data_folder)\n",
    "\n",
    "# Lọc ra các file CSV và đảm bảo đó là file\n",
    "csv_files = [file for file in files if file.endswith('.csv') and os.path.isfile(os.path.join(data_folder, file))]\n",
    "dfs=[]\n",
    "print(\"Danh sách các file CSV:\")\n",
    "for csv_file in tqdm(csv_files, desc=\"Xử lý các file CSV\"):  # Sử dụng tqdm để theo dõi tiến trình\n",
    "    file_path = os.path.join(data_folder, csv_file)\n",
    "    data = pd.read_csv(file_path,names=feature, low_memory=False)\n",
    "    list=analyse_dataset(data,[\"subcategory \"], list)"
   ]
  },
  {
   "cell_type": "code",
   "execution_count": null,
   "metadata": {},
   "outputs": [],
   "source": [
    "list\n",
    "unique_elements = set(list)\n",
    "print(unique_elements)"
   ]
  },
  {
   "cell_type": "code",
   "execution_count": 61,
   "metadata": {},
   "outputs": [
    {
     "name": "stdout",
     "output_type": "stream",
     "text": [
      "Danh sách các file CSV:\n"
     ]
    },
    {
     "name": "stderr",
     "output_type": "stream",
     "text": [
      "Xử lý các file CSV: 100%|██████████| 74/74 [03:07<00:00,  2.54s/it]\n"
     ]
    }
   ],
   "source": [
    "import os\n",
    "import pandas as pd\n",
    "from tqdm import tqdm  # Import tqdm\n",
    "\n",
    "list = []\n",
    "files = os.listdir(data_folder)\n",
    "\n",
    "# Lọc ra các file CSV và đảm bảo đó là file\n",
    "csv_files = [file for file in files if file.endswith('.csv') and os.path.isfile(os.path.join(data_folder, file))]\n",
    "dfs=[]\n",
    "print(\"Danh sách các file CSV:\")\n",
    "for csv_file in tqdm(csv_files, desc=\"Xử lý các file CSV\"):  # Sử dụng tqdm để theo dõi tiến trình\n",
    "    file_path = os.path.join(data_folder, csv_file)\n",
    "    data = pd.read_csv(file_path,names=feature, low_memory=False)\n",
    "    dfs.append(data)\n"
   ]
  },
  {
   "cell_type": "code",
   "execution_count": 63,
   "metadata": {},
   "outputs": [],
   "source": [
    "final_df = pd.concat(dfs, ignore_index=True)"
   ]
  },
  {
   "cell_type": "code",
   "execution_count": 67,
   "metadata": {},
   "outputs": [],
   "source": [
    "filtered_df = pd.DataFrame()\n",
    "for label in unique_elements:\n",
    "    # Lọc mẫu và lấy 2000 mẫu đầu tiên cho nhãn này\n",
    "    label_samples = final_df[final_df['subcategory '] == label].head(50000)\n",
    "    # Gộp các mẫu này vào filtered_df\n",
    "    filtered_df = pd.concat([filtered_df, label_samples])"
   ]
  },
  {
   "cell_type": "code",
   "execution_count": 73,
   "metadata": {},
   "outputs": [
    {
     "name": "stdout",
     "output_type": "stream",
     "text": [
      "thống kê nhãn subcategory :\n",
      "OS_Fingerprint 50000\n",
      "Data_Exfiltration 118\n",
      "HTTP 49477\n",
      "Normal 9543\n",
      "UDP 50000\n",
      "Service_Scan 50000\n",
      "Keylogging 1469\n",
      "TCP 50000\n"
     ]
    },
    {
     "data": {
      "text/plain": [
       "['OS_Fingerprint',\n",
       " 'Data_Exfiltration',\n",
       " 'HTTP',\n",
       " 'Normal',\n",
       " 'UDP',\n",
       " 'Service_Scan',\n",
       " 'Keylogging',\n",
       " 'TCP']"
      ]
     },
     "execution_count": 73,
     "metadata": {},
     "output_type": "execute_result"
    }
   ],
   "source": [
    "analyse_dataset(filtered_df,[\"subcategory \"],[])"
   ]
  },
  {
   "cell_type": "code",
   "execution_count": 74,
   "metadata": {},
   "outputs": [],
   "source": [
    "filtered_df.to_csv(\"/Users/mac/Dev/2022_SE03/data/raw_20k_data.csv\",index=False)"
   ]
  },
  {
   "cell_type": "code",
   "execution_count": null,
   "metadata": {},
   "outputs": [],
   "source": []
  }
 ],
 "metadata": {
  "kernelspec": {
   "display_name": "FL_env",
   "language": "python",
   "name": "federatedlearning_env"
  },
  "language_info": {
   "codemirror_mode": {
    "name": "ipython",
    "version": 3
   },
   "file_extension": ".py",
   "mimetype": "text/x-python",
   "name": "python",
   "nbconvert_exporter": "python",
   "pygments_lexer": "ipython3",
   "version": "3.11.4"
  }
 },
 "nbformat": 4,
 "nbformat_minor": 2
}
