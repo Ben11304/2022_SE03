{
 "cells": [
  {
   "cell_type": "code",
   "execution_count": 1,
   "metadata": {},
   "outputs": [],
   "source": [
    "import pandas as pd\n",
    "from sklearn.preprocessing import StandardScaler\n",
    "from sklearn.feature_selection import VarianceThreshold\n",
    "from sklearn.preprocessing import LabelEncoder\n",
    "import numpy as np\n",
    "from data_work import data_split\n",
    "from data_work import processed\n",
    "from data_work import analyse_dataset\n",
    "from data_work import set_data\n",
    "from sklearn.model_selection import train_test_split\n",
    "import pandas as pd\n",
    "data=pd.read_csv(\"/Users/mac/Dev/2022_SE03/data/lasted_data.csv\",index_col=None)\n",
    "data=data.drop(\"Unnamed: 0\",axis=1)"
   ]
  },
  {
   "cell_type": "code",
   "execution_count": 2,
   "metadata": {},
   "outputs": [],
   "source": [
    "\n",
    "traindata,test_data=train_test_split(data,test_size=0.4,random_state=42,stratify=data['subcategory '])\n",
    "data = traindata.reset_index(drop=True)\n",
    "test_data = test_data.reset_index(drop=True)\n",
    "client_data,server_data=train_test_split(traindata,test_size=0.001,random_state=42)\n",
    "client_data = client_data.reset_index(drop=True)\n",
    "server_data = server_data.reset_index(drop=True)"
   ]
  },
  {
   "cell_type": "code",
   "execution_count": 3,
   "metadata": {},
   "outputs": [
    {
     "name": "stdout",
     "output_type": "stream",
     "text": [
      "prepairing non IID dataset\n",
      "len of client data :4208, len of each subdata : 526\n",
      "client number 1 : train(474), val(52)\n",
      "client number 2 : train(474), val(52)\n",
      "client number 3 : train(474), val(52)\n",
      "client number 4 : train(474), val(52)\n",
      "client number 5 : train(474), val(52)\n",
      "client number 6 : train(474), val(52)\n",
      "client number 7 : train(474), val(52)\n",
      "client number 8 : train(474), val(52)\n"
     ]
    }
   ],
   "source": [
    "trainloaders,testloaders=data_split(client_data,\"subcategory \",8,0.1,IID=0)"
   ]
  },
  {
   "cell_type": "code",
   "execution_count": 4,
   "metadata": {},
   "outputs": [],
   "source": [
    "import torch\n",
    "for i in range(len(trainloaders)):\n",
    "    trainloaders[i]=torch.tensor(trainloaders[i].values)"
   ]
  },
  {
   "cell_type": "code",
   "execution_count": 9,
   "metadata": {},
   "outputs": [],
   "source": [
    "from model import Net\n",
    "from CGan import CGAN\n",
    "class Argument():\n",
    "    def __init__(self,data):\n",
    "        self.noise_size=5\n",
    "        self.n_features=28\n",
    "        self.n_classes=8\n",
    "        self.epoch=10\n",
    "        self.batch_size=32\n",
    "        self.dataset=data #tensor\n",
    "        self.lrG=0.003\n",
    "        self.lrD=0.003 "
   ]
  },
  {
   "cell_type": "code",
   "execution_count": 10,
   "metadata": {},
   "outputs": [],
   "source": [
    "class client():\n",
    "    def __init__(self,cid):\n",
    "       self.cid=cid\n",
    "       self.trainset=trainloaders[self.cid] #tensor\n",
    "       self.testset=testloaders[self.cid] #tensor\n",
    "        \n",
    "       args=Argument(self.trainset) #customs\n",
    "\n",
    "       self.Gan=CGAN(args)\n",
    "       self.model=Net(0.00)\n",
    "       \n",
    "    def update_model(self,params):\n",
    "        self.model.load_parameters(params)\n",
    "    def update_Gan(self,params):\n",
    "        self.Gan.load_parameters(params)\n",
    "    def Gan_fit(self):\n",
    "        self.Gan.train()\n",
    "        #code Generator fit data\n",
    "    def model_fit(self):\n",
    "        X=self.trainset[:,1:]\n",
    "        y=self.trainset[:,:1]\n",
    "        y=y.squeeze().tolist()\n",
    "        y=torch.tensor(y)\n",
    "        self.model.fit(X,y,0.003,0.2,10)\n",
    "        #model classify fit\n",
    "    def get_parameters(self):\n",
    "        D_parameters,G_parameters=self.Gan.get_parameters()\n",
    "        M_parameters=self.model.get_parameters()\n",
    "        return M_parameters,D_parameters, G_parameters\n",
    "    def evaluate(self):\n",
    "        X=self.testset[:,1:]\n",
    "        y=self.testset[:,:1]\n",
    "        y=y.squeeze().tolist()\n",
    "        y=torch.tensor(y)\n",
    "        accuracy=self.model.evaluate(X,y)\n",
    "        return accuracy"
   ]
  },
  {
   "cell_type": "code",
   "execution_count": 11,
   "metadata": {},
   "outputs": [],
   "source": [
    "def fn_client(cid)->client:\n",
    "    return client(cid)\n",
    "\n"
   ]
  },
  {
   "cell_type": "code",
   "execution_count": 12,
   "metadata": {},
   "outputs": [
    {
     "name": "stdout",
     "output_type": "stream",
     "text": [
      "---------- Networks architecture -------------\n",
      "Gen(\n",
      "  (label_emb): Embedding(8, 8)\n",
      "  (model): Sequential(\n",
      "    (0): Linear(in_features=13, out_features=128, bias=True)\n",
      "    (1): LeakyReLU(negative_slope=0.2)\n",
      "    (2): Linear(in_features=128, out_features=256, bias=True)\n",
      "    (3): BatchNorm1d(256, eps=0.8, momentum=0.1, affine=True, track_running_stats=True)\n",
      "    (4): LeakyReLU(negative_slope=0.2)\n",
      "    (5): Linear(in_features=256, out_features=512, bias=True)\n",
      "    (6): BatchNorm1d(512, eps=0.8, momentum=0.1, affine=True, track_running_stats=True)\n",
      "    (7): LeakyReLU(negative_slope=0.2)\n",
      "    (8): Linear(in_features=512, out_features=1028, bias=True)\n",
      "    (9): BatchNorm1d(1028, eps=0.8, momentum=0.1, affine=True, track_running_stats=True)\n",
      "    (10): LeakyReLU(negative_slope=0.2)\n",
      "    (11): Linear(in_features=1028, out_features=28, bias=True)\n",
      "    (12): BatchNorm1d(28, eps=0.8, momentum=0.1, affine=True, track_running_stats=True)\n",
      "    (13): LeakyReLU(negative_slope=0.2)\n",
      "  )\n",
      ")\n",
      "Total number of parameters: 726288\n",
      "Dis(\n",
      "  (label_emb): Embedding(8, 8)\n",
      "  (model): Sequential(\n",
      "    (0): Linear(in_features=36, out_features=512, bias=True)\n",
      "    (1): LeakyReLU(negative_slope=0.2, inplace=True)\n",
      "    (2): Linear(in_features=512, out_features=512, bias=True)\n",
      "    (3): Dropout(p=0.4, inplace=False)\n",
      "    (4): LeakyReLU(negative_slope=0.2, inplace=True)\n",
      "    (5): Linear(in_features=512, out_features=512, bias=True)\n",
      "    (6): Dropout(p=0.4, inplace=False)\n",
      "    (7): LeakyReLU(negative_slope=0.2, inplace=True)\n",
      "    (8): Linear(in_features=512, out_features=1, bias=True)\n",
      "    (9): Sigmoid()\n",
      "  )\n",
      ")\n",
      "Total number of parameters: 544833\n",
      "-----------------------------------------------\n"
     ]
    },
    {
     "ename": "TypeError",
     "evalue": "Net.__init__() missing 1 required positional argument: 'dropout_rate'",
     "output_type": "error",
     "traceback": [
      "\u001b[0;31m---------------------------------------------------------------------------\u001b[0m",
      "\u001b[0;31mTypeError\u001b[0m                                 Traceback (most recent call last)",
      "Cell \u001b[0;32mIn[12], line 1\u001b[0m\n\u001b[0;32m----> 1\u001b[0m client_1\u001b[38;5;241m=\u001b[39m\u001b[43mfn_client\u001b[49m\u001b[43m(\u001b[49m\u001b[38;5;241;43m1\u001b[39;49m\u001b[43m)\u001b[49m\n",
      "Cell \u001b[0;32mIn[11], line 2\u001b[0m, in \u001b[0;36mfn_client\u001b[0;34m(cid)\u001b[0m\n\u001b[1;32m      1\u001b[0m \u001b[38;5;28;01mdef\u001b[39;00m \u001b[38;5;21mfn_client\u001b[39m(cid)\u001b[38;5;241m-\u001b[39m\u001b[38;5;241m>\u001b[39mclient:\n\u001b[0;32m----> 2\u001b[0m     \u001b[38;5;28;01mreturn\u001b[39;00m \u001b[43mclient\u001b[49m\u001b[43m(\u001b[49m\u001b[43mcid\u001b[49m\u001b[43m)\u001b[49m\n",
      "Cell \u001b[0;32mIn[10], line 10\u001b[0m, in \u001b[0;36mclient.__init__\u001b[0;34m(self, cid)\u001b[0m\n\u001b[1;32m      7\u001b[0m args\u001b[38;5;241m=\u001b[39mArgument(\u001b[38;5;28mself\u001b[39m\u001b[38;5;241m.\u001b[39mtrainset) \u001b[38;5;66;03m#customs\u001b[39;00m\n\u001b[1;32m      9\u001b[0m \u001b[38;5;28mself\u001b[39m\u001b[38;5;241m.\u001b[39mGan\u001b[38;5;241m=\u001b[39mCGAN(args)\n\u001b[0;32m---> 10\u001b[0m \u001b[38;5;28mself\u001b[39m\u001b[38;5;241m.\u001b[39mmodel\u001b[38;5;241m=\u001b[39m\u001b[43mNet\u001b[49m\u001b[43m(\u001b[49m\u001b[43m)\u001b[49m\n",
      "\u001b[0;31mTypeError\u001b[0m: Net.__init__() missing 1 required positional argument: 'dropout_rate'"
     ]
    }
   ],
   "source": [
    "client_1=fn_client(1)\n"
   ]
  },
  {
   "cell_type": "code",
   "execution_count": null,
   "metadata": {},
   "outputs": [
    {
     "ename": "SyntaxError",
     "evalue": "incomplete input (2978428367.py, line 1)",
     "output_type": "error",
     "traceback": [
      "\u001b[0;36m  Cell \u001b[0;32mIn[3], line 1\u001b[0;36m\u001b[0m\n\u001b[0;31m    class server():\u001b[0m\n\u001b[0m                   ^\u001b[0m\n\u001b[0;31mSyntaxError\u001b[0m\u001b[0;31m:\u001b[0m incomplete input\n"
     ]
    }
   ],
   "source": [
    "class server():\n",
    "    def __init__(self,args):\n",
    "        self.model=Net()\n",
    "        self.Gan=CGAN()\n",
    "        self.clients=[]\n",
    "        for i in range(number_clients):\n",
    "            cl=fn_client(i)\n",
    "            self.clients.append(cl)\n",
    "        self.trainset=server_data #tensor\n",
    "        self.testset=test_data #tensor\n",
    "        \n",
    "        \n"
   ]
  },
  {
   "cell_type": "code",
   "execution_count": null,
   "metadata": {},
   "outputs": [],
   "source": []
  }
 ],
 "metadata": {
  "kernelspec": {
   "display_name": "Python 3",
   "language": "python",
   "name": "python3"
  },
  "language_info": {
   "codemirror_mode": {
    "name": "ipython",
    "version": 3
   },
   "file_extension": ".py",
   "mimetype": "text/x-python",
   "name": "python",
   "nbconvert_exporter": "python",
   "pygments_lexer": "ipython3",
   "version": "3.11.4"
  }
 },
 "nbformat": 4,
 "nbformat_minor": 2
}
