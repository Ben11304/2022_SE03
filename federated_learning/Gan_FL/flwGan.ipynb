{
  "cells": [
    {
      "cell_type": "code",
      "execution_count": 1,
      "id": "1cd9c6a6-ac6e-497c-9a4f-08b66ea3d585",
      "metadata": {
        "id": "1cd9c6a6-ac6e-497c-9a4f-08b66ea3d585"
      },
      "outputs": [
        {
          "name": "stdout",
          "output_type": "stream",
          "text": [
            "thống kê nhãn attack:\n",
            "1 6118\n",
            "0 1000\n",
            "thống kê nhãn category:\n",
            "2 2000\n",
            "3 1118\n",
            "0 3000\n",
            "1 1000\n",
            "thống kê nhãn subcategory :\n",
            "5 1000\n",
            "2 1000\n",
            "1 1000\n",
            "6 1000\n",
            "3 1000\n",
            "4 1000\n",
            "7 1000\n",
            "0 118\n"
          ]
        }
      ],
      "source": [
        "import pandas as pd\n",
        "from sklearn.preprocessing import StandardScaler\n",
        "from sklearn.feature_selection import VarianceThreshold\n",
        "from sklearn.preprocessing import LabelEncoder\n",
        "import numpy as np\n",
        "from data_work import data_split\n",
        "from data_work import processed\n",
        "from data_work import analyse_dataset\n",
        "from data_work import set_data\n",
        "from sklearn.model_selection import train_test_split\n",
        "df=pd.read_csv(\"/Users/mac/Dev/data/dta_IoT/new2test.csv\")\n",
        "#delete all null columns\n",
        "id=[16,17,21,22,23,24]\n",
        "col=df.columns\n",
        "for idx in id:\n",
        "    df=df.drop(col[idx],axis=1)\n",
        "data=processed(df,\"subcategory \")\n",
        "names=[\"attack\",\"category\",\"subcategory \"]\n",
        "analyse_dataset(data,names)\n",
        "data.to_csv(\"/Users/mac/Dev/source/article/FerderatedLearning/federated_learning/Federated_with_GAN/data_fine/lasted_data.csv\")\n"
      ]
    },
    {
      "cell_type": "code",
      "execution_count": 2,
      "id": "a8dadf3d",
      "metadata": {},
      "outputs": [],
      "source": [
        "\n",
        "traindata,test_data=train_test_split(data,test_size=0.4,random_state=42,stratify=data['subcategory '])\n",
        "data = traindata.reset_index(drop=True)\n",
        "test_data = test_data.reset_index(drop=True)\n",
        "client_data,server_data=train_test_split(traindata,test_size=0.001,random_state=42)\n",
        "client_data = client_data.reset_index(drop=True)\n",
        "server_data = server_data.reset_index(drop=True)"
      ]
    },
    {
      "cell_type": "code",
      "execution_count": 3,
      "id": "ae99b9da",
      "metadata": {},
      "outputs": [
        {
          "name": "stdout",
          "output_type": "stream",
          "text": [
            "thống kê nhãn attack:\n",
            "1 2448\n",
            "0 400\n",
            "thống kê nhãn category:\n",
            "0 1200\n",
            "2 800\n",
            "1 400\n",
            "3 448\n",
            "thống kê nhãn subcategory :\n",
            "7 400\n",
            "4 400\n",
            "5 400\n",
            "1 400\n",
            "3 400\n",
            "2 400\n",
            "6 400\n",
            "0 48\n"
          ]
        },
        {
          "data": {
            "text/plain": [
              "[1, 0, 0, 2, 1, 3, 7, 4, 5, 1, 3, 2, 6, 0]"
            ]
          },
          "execution_count": 3,
          "metadata": {},
          "output_type": "execute_result"
        }
      ],
      "source": [
        "analyse_dataset(test_data,names)"
      ]
    },
    {
      "cell_type": "code",
      "execution_count": 4,
      "id": "3662f98d",
      "metadata": {},
      "outputs": [
        {
          "name": "stdout",
          "output_type": "stream",
          "text": [
            "thống kê nhãn attack:\n",
            "0 3\n",
            "1 2\n",
            "thống kê nhãn category:\n",
            "1 3\n",
            "3 1\n",
            "0 1\n",
            "thống kê nhãn subcategory :\n",
            "3 3\n",
            "2 1\n",
            "1 1\n"
          ]
        },
        {
          "data": {
            "text/plain": [
              "[0, 1, 1, 3, 0, 3, 2, 1]"
            ]
          },
          "execution_count": 4,
          "metadata": {},
          "output_type": "execute_result"
        }
      ],
      "source": [
        "analyse_dataset(server_data,names)"
      ]
    },
    {
      "cell_type": "code",
      "execution_count": 5,
      "id": "6e80c4b5",
      "metadata": {},
      "outputs": [
        {
          "name": "stdout",
          "output_type": "stream",
          "text": [
            "len X 2848, len y 2848\n"
          ]
        }
      ],
      "source": [
        "\n",
        "testdata_list=set_data([test_data])[0]\n",
        "\n",
        "#chia data thành list gồm 2 phàn tử [0] là X, [1] là y"
      ]
    },
    {
      "cell_type": "markdown",
      "id": "025cba74",
      "metadata": {},
      "source": [
        "# iid dataset setup "
      ]
    },
    {
      "cell_type": "code",
      "execution_count": 6,
      "id": "08996808",
      "metadata": {},
      "outputs": [
        {
          "name": "stdout",
          "output_type": "stream",
          "text": [
            "prepairing IID dataset\n",
            "len of client data :4265, len of each subdata : 533\n",
            "client number 1 : train(480), val(53)\n",
            "client number 2 : train(480), val(53)\n",
            "client number 3 : train(480), val(53)\n",
            "client number 4 : train(480), val(53)\n",
            "client number 5 : train(480), val(53)\n",
            "client number 6 : train(480), val(53)\n",
            "client number 7 : train(480), val(53)\n",
            "client number 8 : train(480), val(53)\n"
          ]
        }
      ],
      "source": [
        "trainloaders,testloaders=data_split(client_data,\"subcategory \",8,0.1,IID=1)\n",
        "#4 clients"
      ]
    },
    {
      "cell_type": "code",
      "execution_count": 7,
      "id": "d59161ea-cc13-47dd-ba53-87717f2bc17a",
      "metadata": {
        "id": "d59161ea-cc13-47dd-ba53-87717f2bc17a"
      },
      "outputs": [],
      "source": [
        "BATCH_SIZE=10\n",
        "NUM_CLIENTS=4\n",
        "NUM_ROUNDS =3"
      ]
    },
    {
      "cell_type": "code",
      "execution_count": 8,
      "id": "e168f6ba",
      "metadata": {},
      "outputs": [],
      "source": [
        "from model import Net"
      ]
    },
    {
      "cell_type": "code",
      "execution_count": 9,
      "id": "tPaodc7xBLWx",
      "metadata": {
        "colab": {
          "base_uri": "https://localhost:8080/"
        },
        "id": "tPaodc7xBLWx",
        "outputId": "34bb87ea-1687-4e80-c249-60a8fce9eca8"
      },
      "outputs": [
        {
          "name": "stdout",
          "output_type": "stream",
          "text": [
            "len X 480, len y 480\n",
            "len X 480, len y 480\n",
            "len X 480, len y 480\n",
            "len X 480, len y 480\n",
            "len X 480, len y 480\n",
            "len X 480, len y 480\n",
            "len X 480, len y 480\n",
            "len X 480, len y 480\n",
            "len X 53, len y 53\n",
            "len X 53, len y 53\n",
            "len X 53, len y 53\n",
            "len X 53, len y 53\n",
            "len X 53, len y 53\n",
            "len X 53, len y 53\n",
            "len X 53, len y 53\n",
            "len X 53, len y 53\n"
          ]
        }
      ],
      "source": [
        "trainlist=set_data(trainloaders)\n",
        "testlist=set_data(testloaders)"
      ]
    },
    {
      "cell_type": "code",
      "execution_count": 10,
      "id": "39bc7752",
      "metadata": {},
      "outputs": [
        {
          "data": {
            "image/png": "[encoded data removed]",
            "text/plain": [
              "<Figure size 640x480 with 1 Axes>"
            ]
          },
          "metadata": {},
          "output_type": "display_data"
        }
      ],
      "source": [
        "from sklearn.decomposition import PCA\n",
        "\n",
        "\n",
        "# Khởi tạo PCA với số thành phần chính cần giữ lại là 2\n",
        "pca = PCA(n_components=2)\n",
        "\n",
        "# Thực hiện phân tích PCA trên dữ liệu\n",
        "X_reduced = pca.fit_transform(trainlist[1][0])\n",
        "import matplotlib.pyplot as plt\n",
        "\n",
        "\n",
        "# Plot dữ liệu\n",
        "colors = ['r', 'g', 'b', 'c', 'm', 'y', 'k', 'w'] # Màu sắc tương ứng với các nhãn\n",
        "for i in range(len(X_reduced)):\n",
        "    plt.scatter(X_reduced[i][0], X_reduced[i][1], color=colors[trainlist[1][1][i]])\n",
        "\n",
        "# Đặt nhãn cho trục x và y\n",
        "plt.xlabel('X1')\n",
        "plt.ylabel('X2')\n",
        "\n",
        "# Đặt tiêu đề cho đồ thị\n",
        "plt.title('Biểu đồ dữ liệu')\n",
        "\n",
        "# Hiển thị đồ thị\n",
        "plt.show()"
      ]
    },
    {
      "cell_type": "markdown",
      "id": "_HsMo6fYA-BQ",
      "metadata": {
        "id": "_HsMo6fYA-BQ"
      },
      "source": [
        "##Create model function"
      ]
    },
    {
      "cell_type": "code",
      "execution_count": 11,
      "id": "75da45e6",
      "metadata": {},
      "outputs": [],
      "source": [
        "import torch\n",
        "import torch.nn as nn"
      ]
    },
    {
      "cell_type": "code",
      "execution_count": 12,
      "id": "54229034",
      "metadata": {},
      "outputs": [
        {
          "name": "stdout",
          "output_type": "stream",
          "text": [
            "prepairing non IID dataset\n",
            "len of client data :4260, len of each subdata : 284\n",
            "client number 1 : train(256), val(28)\n",
            "client number 2 : train(256), val(28)\n",
            "client number 3 : train(256), val(28)\n",
            "client number 4 : train(256), val(28)\n",
            "client number 5 : train(256), val(28)\n",
            "client number 6 : train(256), val(28)\n",
            "client number 7 : train(256), val(28)\n",
            "client number 8 : train(256), val(28)\n",
            "client number 9 : train(256), val(28)\n",
            "client number 10 : train(256), val(28)\n",
            "client number 11 : train(256), val(28)\n",
            "client number 12 : train(256), val(28)\n",
            "client number 13 : train(256), val(28)\n",
            "client number 14 : train(256), val(28)\n",
            "client number 15 : train(256), val(28)\n"
          ]
        }
      ],
      "source": [
        "trainloaders,testloaders=data_split(client_data,\"subcategory \",15,0.1,IID=0)"
      ]
    },
    {
      "cell_type": "code",
      "execution_count": 13,
      "id": "e9cd41b8",
      "metadata": {},
      "outputs": [
        {
          "name": "stdout",
          "output_type": "stream",
          "text": [
            "len X 256, len y 256\n",
            "len X 256, len y 256\n",
            "len X 256, len y 256\n",
            "len X 256, len y 256\n",
            "len X 256, len y 256\n",
            "len X 256, len y 256\n",
            "len X 256, len y 256\n",
            "len X 256, len y 256\n",
            "len X 256, len y 256\n",
            "len X 256, len y 256\n",
            "len X 256, len y 256\n",
            "len X 256, len y 256\n",
            "len X 256, len y 256\n",
            "len X 256, len y 256\n",
            "len X 256, len y 256\n",
            "len X 28, len y 28\n",
            "len X 28, len y 28\n",
            "len X 28, len y 28\n",
            "len X 28, len y 28\n",
            "len X 28, len y 28\n",
            "len X 28, len y 28\n",
            "len X 28, len y 28\n",
            "len X 28, len y 28\n",
            "len X 28, len y 28\n",
            "len X 28, len y 28\n",
            "len X 28, len y 28\n",
            "len X 28, len y 28\n",
            "len X 28, len y 28\n",
            "len X 28, len y 28\n",
            "len X 28, len y 28\n"
          ]
        }
      ],
      "source": [
        "trainlist=set_data(trainloaders)\n",
        "testlist=set_data(testloaders)"
      ]
    },
    {
      "cell_type": "code",
      "execution_count": 14,
      "id": "d90f7069",
      "metadata": {},
      "outputs": [
        {
          "name": "stdout",
          "output_type": "stream",
          "text": [
            "thống kê nhãn subcategory :\n",
            "4 256\n",
            "[4]\n"
          ]
        }
      ],
      "source": [
        "names=[\"subcategory \"]\n",
        "a=analyse_dataset(trainloaders[7],names)\n",
        "print(a)"
      ]
    },
    {
      "cell_type": "code",
      "execution_count": 15,
      "id": "a3bef33c",
      "metadata": {},
      "outputs": [],
      "source": [
        "from CGan import CGAN"
      ]
    },
    {
      "cell_type": "markdown",
      "id": "6kWT5rSNDcFI",
      "metadata": {
        "id": "6kWT5rSNDcFI"
      },
      "source": [
        "##Client"
      ]
    },
    {
      "cell_type": "code",
      "execution_count": 16,
      "id": "d32a95b0",
      "metadata": {},
      "outputs": [],
      "source": [
        "class client():\n",
        "    def __init__(self,cid,net):\n",
        "        self.cid=cid \n",
        "        self.model=net\n",
        "        self.trainset=net.dataset\n",
        "        #self.testset=testset\n",
        "        self.client_label=analyse_dataset(trainloaders[cid],[\"subcategory \"])\n",
        "\n",
        "    def get_parameter(self):\n",
        "        return self.model.get_parameter()\n",
        "    \n",
        "    def fit(self, config ):\n",
        "        # Read values from config\n",
        "        server_round = config[\"server_round\"]\n",
        "        local_epochs = config[\"local_epochs\"]\n",
        "        #print command to know that the config of training process\n",
        "        print(f\"[Client {self.cid}, round {server_round}] fit, config: {config}\")\n",
        "        #num_examples_train = self.trainset.size[1]\n",
        "        history=self.model.train()\n",
        "        results = {\n",
        "            \"D_loss\": history[\"D_loss\"][-1],\n",
        "            \"G_loss\": history[\"G_loss\"][-1],\n",
        "        }\n",
        "        return results\n",
        "    \n",
        "    def Gen_fake_data(self,y):\n",
        "        if isinstance(y, pd.DataFrame):\n",
        "            y=torch.tensor(y.values)\n",
        "        len=y.shape[0]\n",
        "        z= torch.rand(len,self.model.z_dim)\n",
        "        fdata=self.model.G(z,y)\n",
        "        return fdata\n",
        "\n"
      ]
    },
    {
      "cell_type": "code",
      "execution_count": 17,
      "id": "6d2874c3",
      "metadata": {},
      "outputs": [],
      "source": [
        "class Args:\n",
        "    def __init__(self,data_cid):\n",
        "        self.epoch = 10\n",
        "        self.batch_size = 5\n",
        "        self.dataset = torch.tensor(trainloaders[data_cid].values)\n",
        "        self.save_dir=\" \"\n",
        "        self.result_dir=\" \"\n",
        "        self.log_dir = 'logs/'\n",
        "        self.gpu_mode = True\n",
        "        self.gan_type = 'cGAN'\n",
        "        self.z_dim = 10\n",
        "        self.n_class = 8\n",
        "        self.sample_num = self.n_class ** 2\n",
        "        self.lrG=0.0001\n",
        "        self.lrD=0.0001\n",
        "        self.n_epochs=self.n_class\n",
        "        self.n_classes=self.n_class\n",
        "        self.noise_size=self.z_dim\n",
        "        self.n_features=28"
      ]
    },
    {
      "cell_type": "code",
      "execution_count": 18,
      "id": "209a54df",
      "metadata": {},
      "outputs": [],
      "source": [
        "config = {\n",
        "    \"server_round\": 3,\n",
        "    \"local_epochs\": 10\n",
        "    \n",
        "}"
      ]
    },
    {
      "cell_type": "code",
      "execution_count": 19,
      "id": "e091b70f",
      "metadata": {},
      "outputs": [],
      "source": [
        "def client_fn(cid: str):  \n",
        "    \"\"\"Create a Flower client representing a single organization.\"\"\"\n",
        "    # Load model\n",
        "    args=Args(cid)\n",
        "    print(cid)\n",
        "    net=CGAN(args)\n",
        "    # Create a  single Flower client representing a single organization\n",
        "    return client(cid, net)"
      ]
    },
    {
      "cell_type": "code",
      "execution_count": 20,
      "id": "cef797f5",
      "metadata": {},
      "outputs": [
        {
          "name": "stdout",
          "output_type": "stream",
          "text": [
            "2848\n"
          ]
        }
      ],
      "source": [
        "print(len(test_data))"
      ]
    },
    {
      "cell_type": "code",
      "execution_count": null,
      "id": "d50af47c",
      "metadata": {},
      "outputs": [],
      "source": []
    },
    {
      "cell_type": "code",
      "execution_count": 21,
      "id": "838631fb",
      "metadata": {},
      "outputs": [
        {
          "name": "stdout",
          "output_type": "stream",
          "text": [
            "5\n",
            "length of trainset 2, length of testset3\n",
            "Accuracy for fold 1 : 0.3333333333333333\n",
            "length of trainset 3, length of testset2\n",
            "Accuracy for fold 2 : 0.5\n",
            "total accuracy : 0.24367977528089887\n"
          ]
        }
      ],
      "source": [
        "te=torch.tensor(server_data.values)\n",
        "X_te=te[:,1:]\n",
        "y_te=te[:,:1]\n",
        "print(len(X_te))\n",
        "y_te=y_te.squeeze().tolist()\n",
        "y_te=torch.tensor(y_te)\n",
        "mul=Net(0.00)\n",
        "mul.Cross_validation(X_te,y_te,2,0.0003)\n",
        "_,accuracy=mul.evaluate(testdata_list[0],testdata_list[1])\n",
        "print(f\"total accuracy : {accuracy}\")"
      ]
    },
    {
      "cell_type": "markdown",
      "id": "dayR9Cu_FiWv",
      "metadata": {
        "id": "dayR9Cu_FiWv"
      },
      "source": [
        "##Server"
      ]
    },
    {
      "cell_type": "code",
      "execution_count": 22,
      "id": "dd4299b5",
      "metadata": {},
      "outputs": [],
      "source": [
        "import random\n",
        "class server():\n",
        "    def __init__(self):\n",
        "        self.server_model=Net(0.00)\n",
        "        self.trainset=torch.tensor(server_data.values)\n",
        "        self.testset=testdata_list\n",
        "        self.clients=[]\n",
        "        n_clients=15\n",
        "        for i in range(n_clients):\n",
        "            client=client_fn(i)\n",
        "            self.clients.append(client)\n",
        "\n",
        "    \n",
        "    #def fit_round():\n",
        "    def simulation(self,rounds):\n",
        "        \n",
        "        for round in range(rounds):\n",
        "            total_fake=[]\n",
        "            for i in range(len(self.clients)):\n",
        "                #kết hợp data sever và xáo trộn\n",
        "                data=torch.cat((self.clients[i].model.dataset, self.trainset), dim=0)\n",
        "                indices = list(range(data.size(0)))\n",
        "                random.shuffle(indices)\n",
        "                shuffled_data = data[indices, :]\n",
        "                self.clients[i].model.dataset= shuffled_data\n",
        "                #D_parameters,G_parameters=client.get_parameter()\n",
        "                config = {\n",
        "                            \"server_round\": round,\n",
        "                            \"local_epochs\": 5\n",
        "                        }\n",
        "                results=self.clients[i].fit(config)\n",
        "                print(results)\n",
        "                \n",
        "                y=self.clients[i].client_label*100\n",
        "\n",
        "                #tạo data giả\n",
        "                y=torch.tensor(y, dtype=torch.long)\n",
        "                data_fake=self.clients[i].Gen_fake_data(y)\n",
        "                data_fake=torch.cat((y.unsqueeze(1), data_fake), dim=1)\n",
        "                total_fake.append(data_fake)\n",
        "            round_data = torch.empty(1, 29)\n",
        "            for fake in total_fake:\n",
        "                fake=fake.detach()\n",
        "                round_data=torch.cat((round_data,fake), dim=0)\n",
        "            print(f\"number of synthetic data : {len(round_data)}\")\n",
        "            \n",
        "            X=round_data[:,1:]\n",
        "            y=round_data[:,:1]\n",
        "            #print(y)\n",
        "            y=y.squeeze().tolist()\n",
        "            y=torch.tensor(y)\n",
        "            #self.server_model.Cross_validation(X,y,5,0.003)\n",
        "            self.server_model.Cross_validation(X,y,5,0.003)\n",
        "            _,accuracy=self.server_model.evaluate(self.testset[0],self.testset[1])\n",
        "            print(f\"round{round} accuracy:{accuracy}\")\n",
        "\n",
        "\n",
        "            \n",
        "\n",
        "            \n"
      ]
    },
    {
      "cell_type": "code",
      "execution_count": 23,
      "id": "84c21a06",
      "metadata": {},
      "outputs": [
        {
          "name": "stdout",
          "output_type": "stream",
          "text": [
            "0\n",
            "thống kê nhãn subcategory :\n",
            "1 192\n",
            "0 64\n",
            "1\n",
            "thống kê nhãn subcategory :\n",
            "1 256\n",
            "2\n",
            "thống kê nhãn subcategory :\n",
            "2 165\n",
            "1 91\n",
            "3\n",
            "thống kê nhãn subcategory :\n",
            "2 256\n",
            "4\n",
            "thống kê nhãn subcategory :\n",
            "2 122\n",
            "3 134\n",
            "5\n",
            "thống kê nhãn subcategory :\n",
            "3 256\n",
            "6\n",
            "thống kê nhãn subcategory :\n",
            "4 111\n",
            "3 145\n",
            "7\n",
            "thống kê nhãn subcategory :\n",
            "4 256\n",
            "8\n",
            "thống kê nhãn subcategory :\n",
            "4 176\n",
            "5 80\n",
            "9\n",
            "thống kê nhãn subcategory :\n",
            "5 256\n",
            "10\n",
            "thống kê nhãn subcategory :\n",
            "5 201\n",
            "6 55\n",
            "11\n",
            "thống kê nhãn subcategory :\n",
            "6 256\n",
            "12\n",
            "thống kê nhãn subcategory :\n",
            "6 228\n",
            "7 28\n",
            "13\n",
            "thống kê nhãn subcategory :\n",
            "7 256\n",
            "14\n",
            "thống kê nhãn subcategory :\n",
            "7 256\n"
          ]
        }
      ],
      "source": [
        "fed=server()"
      ]
    },
    {
      "cell_type": "code",
      "execution_count": 24,
      "id": "442a0703",
      "metadata": {},
      "outputs": [
        {
          "name": "stdout",
          "output_type": "stream",
          "text": [
            "[Client 0, round 0] fit, config: {'server_round': 0, 'local_epochs': 5}\n"
          ]
        },
        {
          "ename": "TypeError",
          "evalue": "CGAN.train() missing 1 required positional argument: 'data'",
          "output_type": "error",
          "traceback": [
            "\u001b[0;31m---------------------------------------------------------------------------\u001b[0m",
            "\u001b[0;31mTypeError\u001b[0m                                 Traceback (most recent call last)",
            "Cell \u001b[0;32mIn[24], line 1\u001b[0m\n\u001b[0;32m----> 1\u001b[0m \u001b[43mfed\u001b[49m\u001b[38;5;241;43m.\u001b[39;49m\u001b[43msimulation\u001b[49m\u001b[43m(\u001b[49m\u001b[38;5;241;43m5\u001b[39;49m\u001b[43m)\u001b[49m\n",
            "Cell \u001b[0;32mIn[22], line 31\u001b[0m, in \u001b[0;36mserver.simulation\u001b[0;34m(self, rounds)\u001b[0m\n\u001b[1;32m     26\u001b[0m \u001b[38;5;66;03m#D_parameters,G_parameters=client.get_parameter()\u001b[39;00m\n\u001b[1;32m     27\u001b[0m config \u001b[38;5;241m=\u001b[39m {\n\u001b[1;32m     28\u001b[0m             \u001b[38;5;124m\"\u001b[39m\u001b[38;5;124mserver_round\u001b[39m\u001b[38;5;124m\"\u001b[39m: \u001b[38;5;28mround\u001b[39m,\n\u001b[1;32m     29\u001b[0m             \u001b[38;5;124m\"\u001b[39m\u001b[38;5;124mlocal_epochs\u001b[39m\u001b[38;5;124m\"\u001b[39m: \u001b[38;5;241m5\u001b[39m\n\u001b[1;32m     30\u001b[0m         }\n\u001b[0;32m---> 31\u001b[0m results\u001b[38;5;241m=\u001b[39m\u001b[38;5;28;43mself\u001b[39;49m\u001b[38;5;241;43m.\u001b[39;49m\u001b[43mclients\u001b[49m\u001b[43m[\u001b[49m\u001b[43mi\u001b[49m\u001b[43m]\u001b[49m\u001b[38;5;241;43m.\u001b[39;49m\u001b[43mfit\u001b[49m\u001b[43m(\u001b[49m\u001b[43mconfig\u001b[49m\u001b[43m)\u001b[49m\n\u001b[1;32m     32\u001b[0m \u001b[38;5;28mprint\u001b[39m(results)\n\u001b[1;32m     34\u001b[0m y\u001b[38;5;241m=\u001b[39m\u001b[38;5;28mself\u001b[39m\u001b[38;5;241m.\u001b[39mclients[i]\u001b[38;5;241m.\u001b[39mclient_label\u001b[38;5;241m*\u001b[39m\u001b[38;5;241m100\u001b[39m\n",
            "Cell \u001b[0;32mIn[16], line 19\u001b[0m, in \u001b[0;36mclient.fit\u001b[0;34m(self, config)\u001b[0m\n\u001b[1;32m     17\u001b[0m \u001b[38;5;28mprint\u001b[39m(\u001b[38;5;124mf\u001b[39m\u001b[38;5;124m\"\u001b[39m\u001b[38;5;124m[Client \u001b[39m\u001b[38;5;132;01m{\u001b[39;00m\u001b[38;5;28mself\u001b[39m\u001b[38;5;241m.\u001b[39mcid\u001b[38;5;132;01m}\u001b[39;00m\u001b[38;5;124m, round \u001b[39m\u001b[38;5;132;01m{\u001b[39;00mserver_round\u001b[38;5;132;01m}\u001b[39;00m\u001b[38;5;124m] fit, config: \u001b[39m\u001b[38;5;132;01m{\u001b[39;00mconfig\u001b[38;5;132;01m}\u001b[39;00m\u001b[38;5;124m\"\u001b[39m)\n\u001b[1;32m     18\u001b[0m \u001b[38;5;66;03m#num_examples_train = self.trainset.size[1]\u001b[39;00m\n\u001b[0;32m---> 19\u001b[0m history\u001b[38;5;241m=\u001b[39m\u001b[38;5;28;43mself\u001b[39;49m\u001b[38;5;241;43m.\u001b[39;49m\u001b[43mmodel\u001b[49m\u001b[38;5;241;43m.\u001b[39;49m\u001b[43mtrain\u001b[49m\u001b[43m(\u001b[49m\u001b[43m)\u001b[49m\n\u001b[1;32m     20\u001b[0m results \u001b[38;5;241m=\u001b[39m {\n\u001b[1;32m     21\u001b[0m     \u001b[38;5;124m\"\u001b[39m\u001b[38;5;124mD_loss\u001b[39m\u001b[38;5;124m\"\u001b[39m: history[\u001b[38;5;124m\"\u001b[39m\u001b[38;5;124mD_loss\u001b[39m\u001b[38;5;124m\"\u001b[39m][\u001b[38;5;241m-\u001b[39m\u001b[38;5;241m1\u001b[39m],\n\u001b[1;32m     22\u001b[0m     \u001b[38;5;124m\"\u001b[39m\u001b[38;5;124mG_loss\u001b[39m\u001b[38;5;124m\"\u001b[39m: history[\u001b[38;5;124m\"\u001b[39m\u001b[38;5;124mG_loss\u001b[39m\u001b[38;5;124m\"\u001b[39m][\u001b[38;5;241m-\u001b[39m\u001b[38;5;241m1\u001b[39m],\n\u001b[1;32m     23\u001b[0m }\n\u001b[1;32m     24\u001b[0m \u001b[38;5;28;01mreturn\u001b[39;00m results\n",
            "\u001b[0;31mTypeError\u001b[0m: CGAN.train() missing 1 required positional argument: 'data'"
          ]
        }
      ],
      "source": [
        "fed.simulation(5)"
      ]
    },
    {
      "cell_type": "markdown",
      "id": "WDlpKM1dhLb6",
      "metadata": {
        "id": "WDlpKM1dhLb6"
      },
      "source": [
        "#Train models with IID and non-IID data  "
      ]
    },
    {
      "cell_type": "markdown",
      "id": "ccfd220f",
      "metadata": {},
      "source": []
    }
  ],
  "metadata": {
    "accelerator": "GPU",
    "colab": {
      "provenance": [],
      "toc_visible": true
    },
    "kernelspec": {
      "display_name": "Python 3",
      "name": "python3"
    },
    "language_info": {
      "codemirror_mode": {
        "name": "ipython",
        "version": 3
      },
      "file_extension": ".py",
      "mimetype": "text/x-python",
      "name": "python",
      "nbconvert_exporter": "python",
      "pygments_lexer": "ipython3",
      "version": "3.11.4"
    }
  },
  "nbformat": 4,
  "nbformat_minor": 5
}
