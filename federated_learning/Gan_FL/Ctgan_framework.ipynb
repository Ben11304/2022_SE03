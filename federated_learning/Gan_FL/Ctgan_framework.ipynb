{
 "cells": [
  {
   "cell_type": "code",
   "execution_count": 1,
   "id": "1cd9c6a6-ac6e-497c-9a4f-08b66ea3d585",
   "metadata": {
    "id": "1cd9c6a6-ac6e-497c-9a4f-08b66ea3d585"
   },
   "outputs": [],
   "source": [
    "import pandas as pd\n",
    "from sklearn.preprocessing import StandardScaler\n",
    "from sklearn.feature_selection import VarianceThreshold\n",
    "from sklearn.preprocessing import LabelEncoder\n",
    "import numpy as np\n",
    "from data_work import data_split\n",
    "from data_work import processed\n",
    "from data_work import analyse_dataset\n",
    "from data_work import set_data\n",
    "from sklearn.model_selection import train_test_split\n",
    "import pandas as pd\n",
    "data=pd.read_csv(\"/Users/mac/Dev/2022_SE03/data/lasted_data.csv\",index_col=None)\n",
    "data=data.drop(\"Unnamed: 0\",axis=1)"
   ]
  },
  {
   "cell_type": "code",
   "execution_count": 2,
   "id": "a8dadf3d",
   "metadata": {},
   "outputs": [],
   "source": [
    "\n",
    "traindata,test_data=train_test_split(data,test_size=0.4,random_state=42,stratify=data['subcategory '])\n",
    "data = traindata.reset_index(drop=True)\n",
    "test_data = test_data.reset_index(drop=True)\n",
    "client_data,server_data=train_test_split(traindata,test_size=0.001,random_state=42)\n",
    "client_data = client_data.reset_index(drop=True)\n",
    "server_data = server_data.reset_index(drop=True)"
   ]
  },
  {
   "cell_type": "code",
   "execution_count": 3,
   "id": "6e80c4b5",
   "metadata": {},
   "outputs": [
    {
     "name": "stdout",
     "output_type": "stream",
     "text": [
      "len X 2811, len y 2811\n"
     ]
    }
   ],
   "source": [
    "\n",
    "testdata_list=set_data([test_data])[0]\n",
    "\n",
    "#chia data thành list gồm 2 phàn tử [0] là X, [1] là y"
   ]
  },
  {
   "cell_type": "markdown",
   "id": "025cba74",
   "metadata": {},
   "source": [
    "# iid dataset setup "
   ]
  },
  {
   "cell_type": "code",
   "execution_count": 4,
   "id": "e168f6ba",
   "metadata": {},
   "outputs": [],
   "source": [
    "from model import Net"
   ]
  },
  {
   "cell_type": "markdown",
   "id": "_HsMo6fYA-BQ",
   "metadata": {
    "id": "_HsMo6fYA-BQ"
   },
   "source": [
    "##Create model function"
   ]
  },
  {
   "cell_type": "code",
   "execution_count": 5,
   "id": "75da45e6",
   "metadata": {},
   "outputs": [],
   "source": [
    "import torch\n",
    "import torch.nn as nn"
   ]
  },
  {
   "cell_type": "code",
   "execution_count": 6,
   "id": "54229034",
   "metadata": {},
   "outputs": [
    {
     "name": "stdout",
     "output_type": "stream",
     "text": [
      "prepairing IID dataset\n",
      "len of client data :4210, len of each subdata : 526\n",
      "client number 1 : train(474), val(52)\n",
      "client number 2 : train(474), val(52)\n",
      "client number 3 : train(474), val(52)\n",
      "client number 4 : train(474), val(52)\n",
      "client number 5 : train(474), val(52)\n",
      "client number 6 : train(474), val(52)\n",
      "client number 7 : train(474), val(52)\n",
      "client number 8 : train(474), val(52)\n"
     ]
    }
   ],
   "source": [
    "trainloaders,testloaders=data_split(client_data,\"subcategory \",8,0.1,IID=1)"
   ]
  },
  {
   "cell_type": "code",
   "execution_count": 7,
   "id": "d90f7069",
   "metadata": {},
   "outputs": [
    {
     "name": "stdout",
     "output_type": "stream",
     "text": [
      "thống kê nhãn subcategory :\n",
      "3 62\n",
      "1 67\n",
      "2 62\n",
      "6 62\n",
      "7 68\n",
      "4 75\n",
      "5 69\n",
      "0 9\n",
      "[3, 1, 2, 6, 7, 4, 5, 0]\n"
     ]
    }
   ],
   "source": [
    "names=[\"subcategory \"]\n",
    "a=analyse_dataset(trainloaders[7],names)\n",
    "print(a)"
   ]
  },
  {
   "cell_type": "markdown",
   "id": "6kWT5rSNDcFI",
   "metadata": {
    "id": "6kWT5rSNDcFI"
   },
   "source": [
    "##Client"
   ]
  },
  {
   "cell_type": "code",
   "execution_count": 8,
   "id": "d32a95b0",
   "metadata": {},
   "outputs": [],
   "source": [
    "class client():\n",
    "    def __init__(self,cid,net):\n",
    "        self.cid=cid \n",
    "        self.model=net\n",
    "        self.trainset=trainloaders[cid]\n",
    "        self.client_label=analyse_dataset(trainloaders[cid],[\"subcategory \"])\n",
    "        self.discrete_columns=list(trainloaders[cid].columns)\n",
    "\n",
    "    def fit(self ):\n",
    "        # Read values from config\n",
    "        self.model.fit(self.trainset, self.discrete_columns)\n",
    "        return \"ok\"\n",
    "    \n",
    "    def Gen_fake_data(self,n_samples):\n",
    "        synthetic_data = self.model.sample(n_samples)\n",
    "        return synthetic_data\n",
    "\n"
   ]
  },
  {
   "cell_type": "code",
   "execution_count": 9,
   "id": "209a54df",
   "metadata": {},
   "outputs": [],
   "source": [
    "config = {\n",
    "    \"server_round\": 3,\n",
    "    \"local_epochs\": 5\n",
    "    \n",
    "}"
   ]
  },
  {
   "cell_type": "code",
   "execution_count": 10,
   "id": "e091b70f",
   "metadata": {},
   "outputs": [],
   "source": [
    "from ctgan import CTGAN\n",
    "from ctgan import load_demo\n",
    "\n",
    "def client_fn(cid: str,config): \n",
    "    server_round = config[\"server_round\"]\n",
    "    local_epochs = config[\"local_epochs\"]\n",
    "    net = CTGAN(epochs=local_epochs)\n",
    "    print(cid)\n",
    "    return client(cid, net)"
   ]
  },
  {
   "cell_type": "code",
   "execution_count": 11,
   "id": "838631fb",
   "metadata": {},
   "outputs": [
    {
     "name": "stdout",
     "output_type": "stream",
     "text": [
      "5\n",
      "accuracy of epoch 0 is 0.0, loss : 108.02294921875\n",
      "accuracy of epoch 1 is 1.0, loss : 9.291299819946289\n",
      "accuracy of epoch 2 is 0.0, loss : 1986.9154052734375\n",
      "accuracy of epoch 3 is 1.0, loss : 108.58467102050781\n",
      "accuracy of epoch 4 is 1.0, loss : 19.584693908691406\n",
      "accuracy of epoch 5 is 1.0, loss : 0.0\n",
      "accuracy of epoch 6 is 1.0, loss : 0.0\n",
      "accuracy of epoch 7 is 1.0, loss : 0.0\n",
      "accuracy of epoch 8 is 1.0, loss : 0.0\n",
      "accuracy of epoch 9 is 1.0, loss : 0.0\n",
      "total accuracy : 0.3208822483102099\n"
     ]
    }
   ],
   "source": [
    "te=torch.tensor(server_data.values)\n",
    "X_te=te[:,1:]\n",
    "y_te=te[:,:1]\n",
    "print(len(X_te))\n",
    "X_te=X_te.float()\n",
    "y_te=y_te.squeeze().tolist()\n",
    "y_te=torch.tensor(y_te)\n",
    "mul=Net(0.00)\n",
    "mul.fit(X_te,y_te,0.003,0.2,10)\n",
    "_,accuracy=mul.evaluate(testdata_list[0],testdata_list[1])\n",
    "print(f\"total accuracy : {accuracy}\")"
   ]
  },
  {
   "cell_type": "markdown",
   "id": "dayR9Cu_FiWv",
   "metadata": {
    "id": "dayR9Cu_FiWv"
   },
   "source": [
    "##Server"
   ]
  },
  {
   "cell_type": "code",
   "execution_count": 12,
   "id": "dd4299b5",
   "metadata": {},
   "outputs": [],
   "source": [
    "import random\n",
    "class server():\n",
    "    def __init__(self):\n",
    "        self.server_model=Net(0.00)\n",
    "        self.trainset=server_data\n",
    "        self.testset=testdata_list\n",
    "        self.clients=[]\n",
    "        n_clients=8\n",
    "        config = {\n",
    "            \"server_round\": round,\n",
    "            \"local_epochs\": 5\n",
    "        }\n",
    "        for i in range(n_clients):\n",
    "            client=client_fn(i,config)\n",
    "            self.clients.append(client)\n",
    "\n",
    "    \n",
    "    #def fit_round():\n",
    "    def simulation(self,rounds):\n",
    "        \n",
    "        for round in range(rounds):\n",
    "            total_fake=[]\n",
    "            for i in range(len(self.clients)):\n",
    "                #kết hợp data sever và xáo trộn\n",
    "                data = pd.concat([self.clients[i].trainset, self.trainset], axis=0)\n",
    "                print(f\"training client {i} with {len(data)} samples\")\n",
    "                data=data.sample(frac=1).reset_index(drop=True)\n",
    "                self.clients[i].trainset= data\n",
    "                #D_parameters,G_parameters=client.get_parameter()\n",
    "                results=self.clients[i].fit()\n",
    "                data_fake=self.clients[i].Gen_fake_data((round+1)*5)\n",
    "                #merge new synthetic data to trainset server\n",
    "                total_fake.append(data_fake)\n",
    "            tensor_fake=[]\n",
    "            for data_fake in total_fake:\n",
    "                self.trainset=pd.concat([data_fake, self.trainset], axis=0)\n",
    "                self.trainset=self.trainset.sample(frac=1).reset_index(drop=True)\n",
    "                tensor_fake.append(torch.tensor(data_fake.values))\n",
    "    \n",
    "            #get round data to train servermodel\n",
    "            round_data = torch.empty(1, 29)\n",
    "            for fake in tensor_fake:\n",
    "                fake=fake.detach()\n",
    "                round_data=torch.cat((round_data,fake), dim=0)\n",
    "            print(f\"number of synthetic data : {len(round_data)}\")\n",
    "\n",
    "            #train server model\n",
    "            X=round_data[:,1:]\n",
    "            y=round_data[:,:1]\n",
    "            y=y.squeeze().tolist()\n",
    "            y=torch.tensor(y)\n",
    "            #self.server_model.fit(X,y,0.003,0.2,15)\n",
    "            self.server_model.Cross_validation(X,y,5,0.003)\n",
    "\n",
    "            #evaluate round accuracy\n",
    "            _,accuracy=self.server_model.evaluate(self.testset[0],self.testset[1])\n",
    "            print(f\"round{round} accuracy:{accuracy}\")\n",
    "\n",
    "\n",
    "            \n",
    "\n",
    "            \n"
   ]
  },
  {
   "cell_type": "code",
   "execution_count": 13,
   "id": "84c21a06",
   "metadata": {},
   "outputs": [
    {
     "name": "stdout",
     "output_type": "stream",
     "text": [
      "0\n",
      "thống kê nhãn subcategory :\n",
      "6 69\n",
      "7 62\n",
      "4 74\n",
      "3 63\n",
      "5 59\n",
      "1 77\n",
      "2 60\n",
      "0 10\n",
      "1\n",
      "thống kê nhãn subcategory :\n",
      "7 67\n",
      "6 72\n",
      "2 59\n",
      "3 79\n",
      "1 64\n",
      "5 60\n",
      "4 64\n",
      "0 9\n",
      "2\n",
      "thống kê nhãn subcategory :\n",
      "3 64\n",
      "2 64\n",
      "5 74\n",
      "1 67\n",
      "4 67\n",
      "0 7\n",
      "6 71\n",
      "7 60\n",
      "3\n",
      "thống kê nhãn subcategory :\n",
      "3 64\n",
      "7 64\n",
      "5 75\n",
      "1 60\n",
      "2 70\n",
      "4 69\n",
      "6 68\n",
      "0 4\n",
      "4\n",
      "thống kê nhãn subcategory :\n",
      "7 77\n",
      "5 63\n",
      "6 63\n",
      "3 58\n",
      "1 72\n",
      "2 77\n",
      "4 52\n",
      "0 12\n",
      "5\n",
      "thống kê nhãn subcategory :\n",
      "3 69\n",
      "1 70\n",
      "6 63\n",
      "7 68\n",
      "2 76\n",
      "5 74\n",
      "4 52\n",
      "0 2\n",
      "6\n",
      "thống kê nhãn subcategory :\n",
      "7 80\n",
      "5 66\n",
      "2 66\n",
      "6 58\n",
      "0 11\n",
      "4 80\n",
      "3 56\n",
      "1 57\n",
      "7\n",
      "thống kê nhãn subcategory :\n",
      "3 62\n",
      "1 67\n",
      "2 62\n",
      "6 62\n",
      "7 68\n",
      "4 75\n",
      "5 69\n",
      "0 9\n"
     ]
    }
   ],
   "source": [
    "fed=server()"
   ]
  },
  {
   "cell_type": "code",
   "execution_count": 14,
   "id": "442a0703",
   "metadata": {},
   "outputs": [
    {
     "name": "stdout",
     "output_type": "stream",
     "text": [
      "training client 0 with 479 samples\n",
      "training client 1 with 479 samples\n",
      "training client 2 with 479 samples\n",
      "training client 3 with 479 samples\n",
      "training client 4 with 479 samples\n",
      "training client 5 with 479 samples\n",
      "training client 6 with 479 samples\n",
      "training client 7 with 479 samples\n",
      "number of synthetic data : 41\n",
      "length of trainset 32, length of testset9\n",
      "Accuracy for fold 1 : 0.1111111111111111\n",
      "length of trainset 33, length of testset8\n",
      "Accuracy for fold 2 : 0.875\n",
      "length of trainset 33, length of testset8\n",
      "Accuracy for fold 3 : 1.0\n",
      "length of trainset 33, length of testset8\n",
      "Accuracy for fold 4 : 1.0\n",
      "length of trainset 33, length of testset8\n",
      "Accuracy for fold 5 : 1.0\n",
      "round0 accuracy:0.18783351120597652\n",
      "training client 0 with 524 samples\n",
      "training client 1 with 524 samples\n",
      "training client 2 with 524 samples\n",
      "training client 3 with 524 samples\n",
      "training client 4 with 524 samples\n",
      "training client 5 with 524 samples\n",
      "training client 6 with 524 samples\n",
      "training client 7 with 524 samples\n",
      "number of synthetic data : 81\n",
      "length of trainset 64, length of testset17\n",
      "Accuracy for fold 1 : 0.11764705882352941\n",
      "length of trainset 65, length of testset16\n",
      "Accuracy for fold 2 : 0.375\n",
      "length of trainset 65, length of testset16\n",
      "Accuracy for fold 3 : 0.375\n",
      "length of trainset 65, length of testset16\n",
      "Accuracy for fold 4 : 0.75\n",
      "length of trainset 65, length of testset16\n",
      "Accuracy for fold 5 : 0.875\n",
      "round1 accuracy:0.12913553895410887\n",
      "training client 0 with 649 samples\n",
      "training client 1 with 649 samples\n",
      "training client 2 with 649 samples\n",
      "training client 3 with 649 samples\n",
      "training client 4 with 649 samples\n",
      "training client 5 with 649 samples\n",
      "training client 6 with 649 samples\n",
      "training client 7 with 649 samples\n",
      "number of synthetic data : 121\n",
      "length of trainset 96, length of testset25\n",
      "Accuracy for fold 1 : 0.24\n",
      "length of trainset 97, length of testset24\n",
      "Accuracy for fold 2 : 0.16666666666666666\n",
      "length of trainset 97, length of testset24\n",
      "Accuracy for fold 3 : 0.16666666666666666\n",
      "length of trainset 97, length of testset24\n",
      "Accuracy for fold 4 : 0.16666666666666666\n",
      "length of trainset 97, length of testset24\n",
      "Accuracy for fold 5 : 0.25\n",
      "round2 accuracy:0.13802917111348276\n",
      "training client 0 with 894 samples\n",
      "training client 1 with 894 samples\n",
      "training client 2 with 894 samples\n",
      "training client 3 with 894 samples\n",
      "training client 4 with 894 samples\n",
      "training client 5 with 894 samples\n",
      "training client 6 with 894 samples\n",
      "training client 7 with 894 samples\n",
      "number of synthetic data : 161\n",
      "length of trainset 128, length of testset33\n",
      "Accuracy for fold 1 : 0.30303030303030304\n",
      "length of trainset 129, length of testset32\n",
      "Accuracy for fold 2 : 0.03125\n",
      "length of trainset 129, length of testset32\n",
      "Accuracy for fold 3 : 0.15625\n",
      "length of trainset 129, length of testset32\n",
      "Accuracy for fold 4 : 0.1875\n",
      "length of trainset 129, length of testset32\n",
      "Accuracy for fold 5 : 0.1875\n",
      "round3 accuracy:0.1415866239772323\n",
      "training client 0 with 1299 samples\n",
      "training client 1 with 1299 samples\n",
      "training client 2 with 1299 samples\n",
      "training client 3 with 1299 samples\n",
      "training client 4 with 1299 samples\n",
      "training client 5 with 1299 samples\n",
      "training client 6 with 1299 samples\n",
      "training client 7 with 1299 samples\n"
     ]
    }
   ],
   "source": [
    "fed.simulation(5)"
   ]
  },
  {
   "cell_type": "markdown",
   "id": "76e307b7",
   "metadata": {},
   "source": []
  }
 ],
 "metadata": {
  "accelerator": "GPU",
  "colab": {
   "provenance": [],
   "toc_visible": true
  },
  "kernelspec": {
   "display_name": "Python 3",
   "language": "python",
   "name": "python3"
  },
  "language_info": {
   "codemirror_mode": {
    "name": "ipython",
    "version": 3
   },
   "file_extension": ".py",
   "mimetype": "text/x-python",
   "name": "python",
   "nbconvert_exporter": "python",
   "pygments_lexer": "ipython3",
   "version": "3.11.4"
  }
 },
 "nbformat": 4,
 "nbformat_minor": 5
}
